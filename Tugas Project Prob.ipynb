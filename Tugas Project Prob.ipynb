{
 "cells": [
  {
   "cell_type": "markdown",
   "id": "d1f0790e",
   "metadata": {},
   "source": [
    "Tugas 4\n",
    "Final Project Probability"
   ]
  },
  {
   "cell_type": "code",
   "execution_count": 62,
   "id": "74a52c1d",
   "metadata": {},
   "outputs": [],
   "source": [
    "#import numpy, pandas\n",
    "import numpy as np\n",
    "import pandas as pd\n",
    "import scipy.stats\n",
    "%matplotlib inline"
   ]
  },
  {
   "cell_type": "code",
   "execution_count": 2,
   "id": "04cb56b3",
   "metadata": {
    "scrolled": true
   },
   "outputs": [
    {
     "data": {
      "text/html": [
       "<div>\n",
       "<style scoped>\n",
       "    .dataframe tbody tr th:only-of-type {\n",
       "        vertical-align: middle;\n",
       "    }\n",
       "\n",
       "    .dataframe tbody tr th {\n",
       "        vertical-align: top;\n",
       "    }\n",
       "\n",
       "    .dataframe thead th {\n",
       "        text-align: right;\n",
       "    }\n",
       "</style>\n",
       "<table border=\"1\" class=\"dataframe\">\n",
       "  <thead>\n",
       "    <tr style=\"text-align: right;\">\n",
       "      <th></th>\n",
       "      <th>age</th>\n",
       "      <th>sex</th>\n",
       "      <th>bmi</th>\n",
       "      <th>children</th>\n",
       "      <th>smoker</th>\n",
       "      <th>region</th>\n",
       "      <th>charges</th>\n",
       "    </tr>\n",
       "  </thead>\n",
       "  <tbody>\n",
       "    <tr>\n",
       "      <th>0</th>\n",
       "      <td>19</td>\n",
       "      <td>female</td>\n",
       "      <td>27.900</td>\n",
       "      <td>0</td>\n",
       "      <td>yes</td>\n",
       "      <td>southwest</td>\n",
       "      <td>16884.92400</td>\n",
       "    </tr>\n",
       "    <tr>\n",
       "      <th>1</th>\n",
       "      <td>18</td>\n",
       "      <td>male</td>\n",
       "      <td>33.770</td>\n",
       "      <td>1</td>\n",
       "      <td>no</td>\n",
       "      <td>southeast</td>\n",
       "      <td>1725.55230</td>\n",
       "    </tr>\n",
       "    <tr>\n",
       "      <th>2</th>\n",
       "      <td>28</td>\n",
       "      <td>male</td>\n",
       "      <td>33.000</td>\n",
       "      <td>3</td>\n",
       "      <td>no</td>\n",
       "      <td>southeast</td>\n",
       "      <td>4449.46200</td>\n",
       "    </tr>\n",
       "    <tr>\n",
       "      <th>3</th>\n",
       "      <td>33</td>\n",
       "      <td>male</td>\n",
       "      <td>22.705</td>\n",
       "      <td>0</td>\n",
       "      <td>no</td>\n",
       "      <td>northwest</td>\n",
       "      <td>21984.47061</td>\n",
       "    </tr>\n",
       "    <tr>\n",
       "      <th>4</th>\n",
       "      <td>32</td>\n",
       "      <td>male</td>\n",
       "      <td>28.880</td>\n",
       "      <td>0</td>\n",
       "      <td>no</td>\n",
       "      <td>northwest</td>\n",
       "      <td>3866.85520</td>\n",
       "    </tr>\n",
       "    <tr>\n",
       "      <th>...</th>\n",
       "      <td>...</td>\n",
       "      <td>...</td>\n",
       "      <td>...</td>\n",
       "      <td>...</td>\n",
       "      <td>...</td>\n",
       "      <td>...</td>\n",
       "      <td>...</td>\n",
       "    </tr>\n",
       "    <tr>\n",
       "      <th>1333</th>\n",
       "      <td>50</td>\n",
       "      <td>male</td>\n",
       "      <td>30.970</td>\n",
       "      <td>3</td>\n",
       "      <td>no</td>\n",
       "      <td>northwest</td>\n",
       "      <td>10600.54830</td>\n",
       "    </tr>\n",
       "    <tr>\n",
       "      <th>1334</th>\n",
       "      <td>18</td>\n",
       "      <td>female</td>\n",
       "      <td>31.920</td>\n",
       "      <td>0</td>\n",
       "      <td>no</td>\n",
       "      <td>northeast</td>\n",
       "      <td>2205.98080</td>\n",
       "    </tr>\n",
       "    <tr>\n",
       "      <th>1335</th>\n",
       "      <td>18</td>\n",
       "      <td>female</td>\n",
       "      <td>36.850</td>\n",
       "      <td>0</td>\n",
       "      <td>no</td>\n",
       "      <td>southeast</td>\n",
       "      <td>1629.83350</td>\n",
       "    </tr>\n",
       "    <tr>\n",
       "      <th>1336</th>\n",
       "      <td>21</td>\n",
       "      <td>female</td>\n",
       "      <td>25.800</td>\n",
       "      <td>0</td>\n",
       "      <td>no</td>\n",
       "      <td>southwest</td>\n",
       "      <td>2007.94500</td>\n",
       "    </tr>\n",
       "    <tr>\n",
       "      <th>1337</th>\n",
       "      <td>61</td>\n",
       "      <td>female</td>\n",
       "      <td>29.070</td>\n",
       "      <td>0</td>\n",
       "      <td>yes</td>\n",
       "      <td>northwest</td>\n",
       "      <td>29141.36030</td>\n",
       "    </tr>\n",
       "  </tbody>\n",
       "</table>\n",
       "<p>1338 rows × 7 columns</p>\n",
       "</div>"
      ],
      "text/plain": [
       "      age     sex     bmi  children smoker     region      charges\n",
       "0      19  female  27.900         0    yes  southwest  16884.92400\n",
       "1      18    male  33.770         1     no  southeast   1725.55230\n",
       "2      28    male  33.000         3     no  southeast   4449.46200\n",
       "3      33    male  22.705         0     no  northwest  21984.47061\n",
       "4      32    male  28.880         0     no  northwest   3866.85520\n",
       "...   ...     ...     ...       ...    ...        ...          ...\n",
       "1333   50    male  30.970         3     no  northwest  10600.54830\n",
       "1334   18  female  31.920         0     no  northeast   2205.98080\n",
       "1335   18  female  36.850         0     no  southeast   1629.83350\n",
       "1336   21  female  25.800         0     no  southwest   2007.94500\n",
       "1337   61  female  29.070         0    yes  northwest  29141.36030\n",
       "\n",
       "[1338 rows x 7 columns]"
      ]
     },
     "execution_count": 2,
     "metadata": {},
     "output_type": "execute_result"
    }
   ],
   "source": [
    "#Read CSV\n",
    "data_csv=pd.read_csv('insurance.csv')\n",
    "data_csv"
   ]
  },
  {
   "cell_type": "markdown",
   "id": "13f34c45",
   "metadata": {},
   "source": [
    "# Langkah #1 Descriptive Statistic"
   ]
  },
  {
   "cell_type": "code",
   "execution_count": 17,
   "id": "8e222dc1",
   "metadata": {
    "scrolled": true
   },
   "outputs": [
    {
     "data": {
      "text/plain": [
       "39.20702541106129"
      ]
     },
     "execution_count": 17,
     "metadata": {},
     "output_type": "execute_result"
    }
   ],
   "source": [
    "#1. Rata-rata umur pengguna\n",
    "data_csv['age'].mean()"
   ]
  },
  {
   "cell_type": "code",
   "execution_count": 3,
   "id": "c26ecd4a",
   "metadata": {},
   "outputs": [
    {
     "data": {
      "text/plain": [
       "30.708448905109503"
      ]
     },
     "execution_count": 3,
     "metadata": {},
     "output_type": "execute_result"
    }
   ],
   "source": [
    "#2. Rata-rata nilai BMI dari pengguna rokok\n",
    "data_csv[data_csv.smoker == 'yes']['bmi'].mean()"
   ]
  },
  {
   "cell_type": "code",
   "execution_count": 6,
   "id": "89eccef2",
   "metadata": {},
   "outputs": [
    {
     "data": {
      "text/plain": [
       "39.20702541106129"
      ]
     },
     "execution_count": 6,
     "metadata": {},
     "output_type": "execute_result"
    }
   ],
   "source": [
    "#3 Berapa rata-rata umur pada data tersebut?\n",
    "data_csv['age'].mean()"
   ]
  },
  {
   "cell_type": "code",
   "execution_count": 8,
   "id": "031a7efb",
   "metadata": {},
   "outputs": [
    {
     "data": {
      "text/plain": [
       "30.708448905109503"
      ]
     },
     "execution_count": 8,
     "metadata": {},
     "output_type": "execute_result"
    }
   ],
   "source": [
    "#4. Berapa rata-rata nilai BMI dari yang merokok?\n",
    "data_csv[data_csv.smoker == 'yes']['bmi'].mean()"
   ]
  },
  {
   "cell_type": "code",
   "execution_count": 12,
   "id": "232217d9",
   "metadata": {
    "scrolled": true
   },
   "outputs": [
    {
     "name": "stdout",
     "output_type": "stream",
     "text": [
      "133207311.20634921\n",
      "35925420.49611172\n",
      "Tidak Sama!\n"
     ]
    }
   ],
   "source": [
    "#5 Apakah variansi dari data charges perokok dan \n",
    "#non perokok sama?\n",
    "\n",
    "#Variansi perokok\n",
    "var_smoker_charges=data_csv[data_csv.smoker =='yes']['charges'].var()\n",
    "print(var_smoker_charges)\n",
    "#Variansi non-perokok\n",
    "var_nsmoker_charges=data_csv[data_csv.smoker =='no']['charges'].var()\n",
    "print(var_nsmoker_charges)\n",
    "\n",
    "print('Tidak Sama!')"
   ]
  },
  {
   "cell_type": "code",
   "execution_count": 3,
   "id": "3b1f4685",
   "metadata": {},
   "outputs": [
    {
     "data": {
      "text/plain": [
       "38.44654088050314"
      ]
     },
     "metadata": {},
     "output_type": "display_data"
    },
    {
     "data": {
      "text/plain": [
       "38.608695652173914"
      ]
     },
     "metadata": {},
     "output_type": "display_data"
    },
    {
     "name": "stdout",
     "output_type": "stream",
     "text": [
      "tidak sama tapi hampir sama\n"
     ]
    }
   ],
   "source": [
    "#6 Apakah rata rata umur perempuan dan laki-laki yang\n",
    "#merokok sama?\n",
    "\n",
    "#Age Male Smoker\n",
    "age_male_smoker=data_csv[(data_csv.smoker == 'yes')&\n",
    "                         (data_csv.sex=='male')]['age'].mean()\n",
    "display(age_male_smoker)\n",
    "age_female_smoker=data_csv[(data_csv.smoker == 'yes')&\n",
    "                         (data_csv.sex=='female')]['age'].mean()\n",
    "display(age_female_smoker)\n",
    "\n",
    "print('tidak sama tapi hampir sama')"
   ]
  },
  {
   "cell_type": "code",
   "execution_count": 23,
   "id": "6a2d623e",
   "metadata": {
    "scrolled": true
   },
   "outputs": [
    {
     "data": {
      "text/plain": [
       "32050.23183153285"
      ]
     },
     "metadata": {},
     "output_type": "display_data"
    },
    {
     "data": {
      "text/plain": [
       "8434.268297856199"
      ]
     },
     "metadata": {},
     "output_type": "display_data"
    },
    {
     "name": "stdout",
     "output_type": "stream",
     "text": [
      "Tagihan perokok lebih tinggi daripada tagihan non merokok\n"
     ]
    }
   ],
   "source": [
    "#7. Mana yang lebih tinggi, rata rata tagihan kesehatan perokok\n",
    "#atau non merokok?\n",
    "\n",
    "#Smoker charges\n",
    "charges_smoker=data_csv[data_csv.smoker =='yes']['charges'].mean()\n",
    "display(charges_smoker)\n",
    "\n",
    "#Non Smoker charges\n",
    "charges_nsmoker=data_csv[data_csv.smoker =='no']['charges'].mean()\n",
    "display(charges_nsmoker)\n",
    "\n",
    "print('Tagihan perokok lebih tinggi daripada tagihan non merokok')"
   ]
  },
  {
   "cell_type": "code",
   "execution_count": 25,
   "id": "88ce115c",
   "metadata": {
    "scrolled": true
   },
   "outputs": [
    {
     "data": {
      "text/plain": [
       "35116.90965694065"
      ]
     },
     "metadata": {},
     "output_type": "display_data"
    },
    {
     "data": {
      "text/plain": [
       "8629.589609712148"
      ]
     },
     "metadata": {},
     "output_type": "display_data"
    },
    {
     "name": "stdout",
     "output_type": "stream",
     "text": [
      "Tagihan perokok BMI>25 lebih dari tagihan non perokok BMI>25\n"
     ]
    }
   ],
   "source": [
    "#8. Mana yang lebih tinggi, rata rata tagihan kesehatan perokok yang BMI nya diatas 25\n",
    "#   atau non perokok yang BMI nya diatas 25\n",
    "\n",
    "# Smoker, BMI >25\n",
    "charges_smoker_obese=data_csv[(data_csv.smoker =='yes')&(data_csv.bmi >25)]['charges'].mean()\n",
    "display(charges_smoker_obese)\n",
    "# NSmoker, BMI > 25\n",
    "charges_nsmoker_obese=data_csv[(data_csv.smoker =='no')&(data_csv.bmi >25)]['charges'].mean()\n",
    "display(charges_nsmoker_obese)\n",
    "\n",
    "print('Tagihan perokok BMI>25 lebih dari tagihan non perokok BMI>25')"
   ]
  },
  {
   "cell_type": "code",
   "execution_count": 26,
   "id": "3f30f9d5",
   "metadata": {},
   "outputs": [
    {
     "data": {
      "text/plain": [
       "30.943128698224832"
      ]
     },
     "metadata": {},
     "output_type": "display_data"
    },
    {
     "data": {
      "text/plain": [
       "30.377749244713023"
      ]
     },
     "metadata": {},
     "output_type": "display_data"
    }
   ],
   "source": [
    "#9. BMI mana yang lebih tinggi, seseorang laki-laki atau perempuan?\n",
    "\n",
    "#BMI laki-laki\n",
    "BMI_male=data_csv[data_csv.sex=='male']['bmi'].mean()\n",
    "display(BMI_male)\n",
    "\n",
    "#BMI perempuan\n",
    "BMI_female=data_csv[data_csv.sex=='female']['bmi'].mean()\n",
    "display(BMI_female)\n",
    "\n",
    "print('BMI laki-laki lebih tinggi daripada BMI perempuan')"
   ]
  },
  {
   "cell_type": "code",
   "execution_count": 29,
   "id": "9bd0fe92",
   "metadata": {
    "scrolled": true
   },
   "outputs": [
    {
     "data": {
      "text/plain": [
       "30.708448905109503"
      ]
     },
     "metadata": {},
     "output_type": "display_data"
    },
    {
     "data": {
      "text/plain": [
       "30.651795112781922"
      ]
     },
     "metadata": {},
     "output_type": "display_data"
    },
    {
     "name": "stdout",
     "output_type": "stream",
     "text": [
      "Berdasarkan mean yang merupakan central tendency dari statistik deskriptif, BMI laki-laki lebih tinggi daripada BMI perempuan.\n"
     ]
    }
   ],
   "source": [
    "#10. BMI mana yang lebih tinggi, seorang perokok atau non perokok?\n",
    "#BMI Perokok\n",
    "BMI_male=data_csv[data_csv.smoker =='yes']['bmi'].mean()\n",
    "display(BMI_male)\n",
    "\n",
    "#BMI Non Perokok\n",
    "BMI_female=data_csv[data_csv.smoker =='no']['bmi'].mean()\n",
    "display(BMI_female)\n",
    "\n",
    "print('Berdasarkan mean yang merupakan central tendency dari statistik deskriptif, BMI laki-laki lebih tinggi daripada BMI perempuan.')"
   ]
  },
  {
   "cell_type": "markdown",
   "id": "2cf86d36",
   "metadata": {},
   "source": [
    "# Langkah #2 Analisa Variabel Kategorik (PMF)"
   ]
  },
  {
   "cell_type": "code",
   "execution_count": 13,
   "id": "f3c7433c",
   "metadata": {},
   "outputs": [
    {
     "name": "stdout",
     "output_type": "stream",
     "text": [
      "Rata-rata tagihan perempuan adalah 12569.57884383534\n",
      "Rata-rata tagihan laki-laki adalah 13956.751177721886\n",
      "Tagihan maksimum perempuan adalah 63770.42801\n",
      "Tagihan maksimum laki-laki adalah 62592.87309\n",
      "Sehingga jika ditinjau dari rata-rata tagihan maka tagihan laki-laki lebih tinggi daripada tagihan perempuan\n",
      "Namun jika ditinjau dari tagihan maksimal maka tagihan perempuan lebih tinggi daripada tagihan laki-laki\n"
     ]
    }
   ],
   "source": [
    "#1. Gender mana yang memiliki tagihan paling tinggi?\n",
    "\n",
    "#Rata-rata tagihan perempuan\n",
    "Charges_female=data_csv[data_csv.sex=='female']['charges'].mean()\n",
    "print(f\"Rata-rata tagihan perempuan adalah {Charges_female}\")\n",
    "#Rata tagihan laki-laki\n",
    "Charges_male=data_csv[data_csv.sex=='male']['charges'].mean()\n",
    "print(f\"Rata-rata tagihan laki-laki adalah {Charges_male}\")\n",
    "#Tagihan tertinggi perempuan\n",
    "Charges_female=data_csv[data_csv.sex=='female']['charges'].max()\n",
    "print(f\"Tagihan maksimum perempuan adalah {Charges_female}\")\n",
    "#Tagihan tertinggi laki-laki\n",
    "Charges_male=data_csv[data_csv.sex=='male']['charges'].max()\n",
    "print(f\"Tagihan maksimum laki-laki adalah {Charges_male}\")\n",
    "\n",
    "print(f\"Sehingga jika ditinjau dari rata-rata tagihan maka tagihan laki-laki lebih tinggi daripada tagihan perempuan\")\n",
    "print(f\"Namun jika ditinjau dari tagihan maksimal maka tagihan perempuan lebih tinggi daripada tagihan laki-laki\")"
   ]
  },
  {
   "cell_type": "code",
   "execution_count": 4,
   "id": "bb5dae52",
   "metadata": {},
   "outputs": [
    {
     "data": {
      "text/plain": [
       "324"
      ]
     },
     "metadata": {},
     "output_type": "display_data"
    },
    {
     "data": {
      "text/plain": [
       "325"
      ]
     },
     "metadata": {},
     "output_type": "display_data"
    },
    {
     "data": {
      "text/plain": [
       "364"
      ]
     },
     "metadata": {},
     "output_type": "display_data"
    },
    {
     "data": {
      "text/plain": [
       "325"
      ]
     },
     "metadata": {},
     "output_type": "display_data"
    },
    {
     "data": {
      "text/plain": [
       "1338"
      ]
     },
     "metadata": {},
     "output_type": "display_data"
    },
    {
     "data": {
      "text/plain": [
       "0.242152466367713"
      ]
     },
     "metadata": {},
     "output_type": "display_data"
    },
    {
     "data": {
      "text/plain": [
       "0.2428998505231689"
      ]
     },
     "metadata": {},
     "output_type": "display_data"
    },
    {
     "data": {
      "text/plain": [
       "0.27204783258594917"
      ]
     },
     "metadata": {},
     "output_type": "display_data"
    },
    {
     "data": {
      "text/plain": [
       "0.2428998505231689"
      ]
     },
     "metadata": {},
     "output_type": "display_data"
    },
    {
     "name": "stdout",
     "output_type": "stream",
     "text": [
      "Karena ada perbedaan banyak orang di setiap region, maka proporsinya tidak semuanya sama di tiap region\n"
     ]
    }
   ],
   "source": [
    "#3.Apakah setiap region memiliki proporsi data banyak orang yang sama?\n",
    "\n",
    "#Northeast\n",
    "NE=data_csv[data_csv.region =='northeast']['region'].count()\n",
    "display(NE)\n",
    "#Northwest\n",
    "NW=data_csv[data_csv.region =='northwest']['region'].count()\n",
    "display(NW)\n",
    "#Southeast\n",
    "SE=data_csv[data_csv.region =='southeast']['region'].count()\n",
    "display(SE)\n",
    "#Southwest\n",
    "SW=data_csv[data_csv.region =='southwest']['region'].count()\n",
    "display(SW)\n",
    "#Total\n",
    "SUM=NE+NW+SE+SW\n",
    "display(SUM)\n",
    "#Proposi NE\n",
    "P_NE=NE/SUM\n",
    "display(P_NE)\n",
    "#Proposi NW\n",
    "P_NW=NW/SUM\n",
    "display(P_NW)\n",
    "#Proposi SE\n",
    "P_SE=SE/SUM\n",
    "display(P_SE)\n",
    "#Proporsi SW\n",
    "P_SW=SW/SUM\n",
    "display(P_SW)\n",
    "\n",
    "\n",
    "print('Karena ada perbedaan banyak orang di setiap region, maka proporsinya tidak semuanya sama di tiap region')"
   ]
  },
  {
   "cell_type": "code",
   "execution_count": 14,
   "id": "58f623db",
   "metadata": {},
   "outputs": [
    {
     "data": {
      "text/plain": [
       "274"
      ]
     },
     "metadata": {},
     "output_type": "display_data"
    },
    {
     "data": {
      "text/plain": [
       "1064"
      ]
     },
     "metadata": {},
     "output_type": "display_data"
    },
    {
     "name": "stdout",
     "output_type": "stream",
     "text": [
      "0.20478325859491778\n",
      "0.7952167414050823\n",
      "Proporsi non perokok lebih tinggi daripada proporsi perokok\n"
     ]
    }
   ],
   "source": [
    "#4. Mana yang lebih tinggi proporsi perokok atau non perokok?\n",
    "\n",
    "#Jumlah Perokok\n",
    "smoker=data_csv[data_csv.smoker =='yes']['smoker'].count()\n",
    "display(smoker)\n",
    "#Jumlah non perokok\n",
    "nsmoker=data_csv[data_csv.smoker =='no']['smoker'].count()\n",
    "display(nsmoker)\n",
    "#Proporsi perokok\n",
    "prop_smoker=smoker/(smoker+nsmoker)\n",
    "print(prop_smoker)\n",
    "#Proporsi non perokok\n",
    "prop_nsmoker=nsmoker/(smoker+nsmoker)\n",
    "print(prop_nsmoker)\n",
    "\n",
    "print('Proporsi non perokok lebih tinggi daripada proporsi perokok')"
   ]
  },
  {
   "cell_type": "code",
   "execution_count": 55,
   "id": "2db55c9d",
   "metadata": {},
   "outputs": [
    {
     "data": {
      "text/plain": [
       "1338"
      ]
     },
     "metadata": {},
     "output_type": "display_data"
    },
    {
     "data": {
      "text/plain": [
       "0.08594917787742899"
      ]
     },
     "metadata": {},
     "output_type": "display_data"
    },
    {
     "data": {
      "text/plain": [
       "274"
      ]
     },
     "metadata": {},
     "output_type": "display_data"
    },
    {
     "data": {
      "text/plain": [
       "0.20478325859491778"
      ]
     },
     "metadata": {},
     "output_type": "display_data"
    },
    {
     "data": {
      "text/plain": [
       "0.4197080291970803"
      ]
     },
     "metadata": {},
     "output_type": "display_data"
    },
    {
     "name": "stdout",
     "output_type": "stream",
     "text": [
      "jadi Peluang perempuan jika diketahui dia perokok adalah 0.42\n"
     ]
    }
   ],
   "source": [
    "#5. Berapa peluang seseorang tersebut adalah perempuan diketahui dia adalah perokok?\n",
    "\n",
    "#P(Perempuan|Perokok)=P(Perempuan irisan perokok)/P(Perokok)\n",
    "\n",
    "#n(Perempuan irisan perokok)\n",
    "female_smoker=data_csv[(data_csv.smoker == 'yes')&\n",
    "                         (data_csv.sex=='female')]['smoker'].count()\n",
    "#n sample space\n",
    "n=data_csv['smoker'].count()\n",
    "display(n)\n",
    "\n",
    "#P(Perempuan|Perokok)\n",
    "P_fem_irisan_smoker=female_smoker/n\n",
    "display(P_fem_irisan_smoker)\n",
    "\n",
    "#n(Perokok)\n",
    "display(smoker)\n",
    "\n",
    "#P perokok\n",
    "P_smoker=smoker/n\n",
    "display(P_smoker)\n",
    "\n",
    "#P(Perempuan|Perokok)\n",
    "P_perempuan_jika_diketahui_perokok=P_fem_irisan_smoker/P_smoker\n",
    "display(P_perempuan_jika_diketahui_perokok)\n",
    "\n",
    "print('jadi Peluang perempuan jika diketahui dia perokok adalah 0.42')"
   ]
  },
  {
   "cell_type": "code",
   "execution_count": 57,
   "id": "3f48e7b0",
   "metadata": {},
   "outputs": [
    {
     "data": {
      "text/plain": [
       "1338"
      ]
     },
     "metadata": {},
     "output_type": "display_data"
    },
    {
     "data": {
      "text/plain": [
       "0.11883408071748879"
      ]
     },
     "metadata": {},
     "output_type": "display_data"
    },
    {
     "data": {
      "text/plain": [
       "274"
      ]
     },
     "metadata": {},
     "output_type": "display_data"
    },
    {
     "data": {
      "text/plain": [
       "0.20478325859491778"
      ]
     },
     "metadata": {},
     "output_type": "display_data"
    },
    {
     "data": {
      "text/plain": [
       "0.5802919708029197"
      ]
     },
     "metadata": {},
     "output_type": "display_data"
    },
    {
     "name": "stdout",
     "output_type": "stream",
     "text": [
      "jadi Peluang perempuan jika diketahui dia perokok adalah 0.58\n"
     ]
    }
   ],
   "source": [
    "#6 Berapa peluang seseorang tersebut adalah laki-laki diketahui dia adalah perokok?\n",
    "\n",
    "#P(Laki-laki|Perokok)=P(Laki-laki irisan perokok)/P(Perokok)\n",
    "\n",
    "#n(Laki-laki irisan perokok)\n",
    "male_smoker=data_csv[(data_csv.smoker == 'yes')&\n",
    "                         (data_csv.sex=='male')]['smoker'].count()\n",
    "#n sample space\n",
    "n=data_csv['smoker'].count()\n",
    "display(n)\n",
    "\n",
    "#P(Perempuan|Perokok)\n",
    "P_male_irisan_smoker=male_smoker/n\n",
    "display(P_male_irisan_smoker)\n",
    "\n",
    "#n(Perokok)\n",
    "display(smoker)\n",
    "\n",
    "#P perokok\n",
    "P_smoker=smoker/n\n",
    "display(P_smoker)\n",
    "\n",
    "#P(Perempuan|Perokok)\n",
    "P_male_jika_diketahui_perokok=P_male_irisan_smoker/P_smoker\n",
    "display(P_male_jika_diketahui_perokok)\n",
    "\n",
    "print('jadi Peluang perempuan jika diketahui dia perokok adalah 0.58')"
   ]
  },
  {
   "cell_type": "markdown",
   "id": "c7a9b25d",
   "metadata": {},
   "source": [
    "# Langkah 3 Analisa Variabel Kontinu (CDF)"
   ]
  },
  {
   "cell_type": "code",
   "execution_count": 19,
   "id": "c4310a3f",
   "metadata": {},
   "outputs": [
    {
     "name": "stdout",
     "output_type": "stream",
     "text": [
      "Jumlah tagihan <$16700 serta BMI <25 adalah 194 \n",
      "Jumlah BMI<25 adalah 245\n",
      "Peluangnya adalah 0.7918367346938775\n"
     ]
    }
   ],
   "source": [
    "#1. Mencari peluang besar tagihan berdasarkan BMI\n",
    "\n",
    "#Jumlah tagihan <$16700, BMI <25\n",
    "charges=data_csv[(data_csv.charges < 16700)&(data_csv.bmi <25)]['charges'].count()\n",
    "print(f\"Jumlah tagihan <$16700 serta BMI <25 adalah {charges} \")\n",
    "#Jumlah pasien dengan BMI <25\n",
    "BMI=data_csv[(data_csv.bmi <25)]['bmi'].count()\n",
    "print(f\"Jumlah BMI<25 adalah {BMI}\")\n",
    "#Peluang Tagihan dibawah $16700 dan BMI kurang dari 25\n",
    "P=charges/BMI\n",
    "print(f\"Peluangnya adalah {P}\")"
   ]
  },
  {
   "cell_type": "code",
   "execution_count": 22,
   "id": "c610639c",
   "metadata": {},
   "outputs": [
    {
     "name": "stdout",
     "output_type": "stream",
     "text": [
      "Jumlah perokok dengan tagihan >$16700 serta BMI >25 adalah 215 \n",
      "Jumlah BMI > 25 adalah 1091\n",
      "Peluangnya adalah 0.19706691109074242\n"
     ]
    }
   ],
   "source": [
    "#2 Mencari kemungkin terjadi, seorang perokok dengan BMI diatas 25 \n",
    "#akan mendapatkantagihan kesehatan di atas 16.700.\n",
    "\n",
    "#Jumlah perokok, tagihan > $16700, BMI > 25\n",
    "charges=data_csv[(data_csv.charges > 16700)&(data_csv.bmi >25)&(data_csv.smoker == 'yes')]['charges'].count()\n",
    "print(f\"Jumlah perokok dengan tagihan >$16700 serta BMI >25 adalah {charges} \")\n",
    "#Jumlah pasien dengan BMI > 25\n",
    "BMI=data_csv[(data_csv.bmi > 25)]['bmi'].count()\n",
    "print(f\"Jumlah BMI > 25 adalah {BMI}\")\n",
    "#Peluang Tagihan diatas $16700 dan BMI lebih dari 25\n",
    "P=charges/BMI\n",
    "print(f\"Peluangnya adalah {P}\")"
   ]
  },
  {
   "cell_type": "code",
   "execution_count": 26,
   "id": "f587b6f2",
   "metadata": {},
   "outputs": [
    {
     "name": "stdout",
     "output_type": "stream",
     "text": [
      "Jumlah tagihan >$16700 serta Smoker adalah 254 \n",
      "Jumlah perokok adalah 274\n",
      "Peluangnya adalah 0.927007299270073\n"
     ]
    }
   ],
   "source": [
    "#3 Berapa peluang seseorang acak tagihan kesehatannya diatas 16.7k diketahui dia adalah perokok\n",
    "\n",
    "#Jumlah tagihan >$16700, Smoker\n",
    "charges=data_csv[(data_csv.charges > 16700)&(data_csv.smoker == 'yes')]['charges'].count()\n",
    "print(f\"Jumlah tagihan >$16700 serta Smoker adalah {charges} \")\n",
    "#Jumlah perokok\n",
    "smokers=data_csv[(data_csv.smoker == 'yes')]['smoker'].count()\n",
    "print(f\"Jumlah perokok adalah {smokers}\")\n",
    "#Peluang\n",
    "P=charges/smokers\n",
    "print(f\"Peluangnya adalah {P}\")"
   ]
  },
  {
   "cell_type": "code",
   "execution_count": 30,
   "id": "f4954b22",
   "metadata": {},
   "outputs": [
    {
     "name": "stdout",
     "output_type": "stream",
     "text": [
      "Jumlah dengan tagihan >$16700 serta BMI >25 adalah 283 \n",
      "Jumlah dengan tagihan > 16700 adalah 334\n",
      "Peluang pasien dengan BMI > 25 jika diketahui tagihan melebihi $16700 adalah 0.8473053892215568\n",
      "Peluang pasien dengan BMI > 25 jika diketahui tagihan melebihi $16700 adalah 0.15269461077844315\n"
     ]
    }
   ],
   "source": [
    "#4. Mana yang lebih mungkin terjadi\n",
    "#a. Seseorang dengan BMI diatas 25 mendapatkan tagihan kesehatan diatas 16.7k, atau\n",
    "#b. Seseorang dengan BMI dibawah 25 mendapatkan tagihan kesehatan diatas 16.7k\n",
    "\n",
    "#Seseorang dengan BMI diatas 25 mendapatkan tagihan kesehatan diatas 16.7k\n",
    "#Jumlah tagihan > $16700, BMI > 25\n",
    "charges=data_csv[(data_csv.charges > 16700)&(data_csv.bmi >25)]['charges'].count()\n",
    "print(f\"Jumlah dengan tagihan >$16700 serta BMI >25 adalah {charges} \")\n",
    "#Jumlah Tagihan > 16700\n",
    "ncharges=data_csv[(data_csv.charges > 16700)]['charges'].count()\n",
    "print(f\"Jumlah dengan tagihan > 16700 adalah {ncharges}\")\n",
    "\n",
    "#Peluang BMI>25 jika diketahui tagihan > 16700\n",
    "P1=charges/ncharges\n",
    "print(f\"Peluang pasien dengan BMI > 25 jika diketahui tagihan melebihi $16700 adalah {P1}\")\n",
    "\n",
    "#Peluang BMI<25 jika diketahui tagihan >16700\n",
    "P2=1-P1\n",
    "print(f\"Peluang pasien dengan BMI > 25 jika diketahui tagihan melebihi $16700 adalah {P2}\")"
   ]
  },
  {
   "cell_type": "code",
   "execution_count": 32,
   "id": "1a9ad7bd",
   "metadata": {},
   "outputs": [
    {
     "name": "stdout",
     "output_type": "stream",
     "text": [
      "Jumlah perokok dengan tagihan >$16700 serta BMI >25 adalah 215 \n",
      "Jumlah dengan tagihan >$16700 serta BMI >25 adalah 283 \n"
     ]
    }
   ],
   "source": [
    "#5. Mana yang lebih mungkin terjadi\n",
    "#a. Seseorang perokok dengan BMI diatas 25 mendapatkan tagihan kesehatan diatas 16.7k, atau\n",
    "#b. Seseorang non perokok dengan BMI diatas 25 mendapatkan tagihan kesehatan diatas 16.7k\n",
    "\n",
    "#Smoker, BMI>25, Tagihan >16700\n",
    "charges=data_csv[(data_csv.charges > 16700)&(data_csv.bmi >25)&(data_csv.smoker == 'yes')]['charges'].count()\n",
    "print(f\"Jumlah perokok dengan tagihan >$16700 serta BMI >25 adalah {charges} \")\n",
    "#BMI>25, Tagihan >16700\n",
    "charges=data_csv[(data_csv.charges > 16700)&(data_csv.bmi >25)]['charges'].count()\n",
    "print(f\"Jumlah dengan tagihan >$16700 serta BMI >25 adalah {charges} \")\n",
    "\n",
    "#Peluang BMI>25 jika diketahui tagihan > 16700\n",
    "P1=charges/ncharges\n",
    "print(f\"Peluang pasien dengan BMI > 25 jika diketahui tagihan melebihi $16700 adalah {P1}\")\n",
    "\n",
    "#Peluang BMI<25 jika diketahui tagihan >16700\n",
    "P2=1-P1\n",
    "print(f\"Peluang pasien dengan BMI > 25 jika diketahui tagihan melebihi $16700 adalah {P2}\")"
   ]
  },
  {
   "cell_type": "markdown",
   "id": "b080a583",
   "metadata": {},
   "source": [
    "# Langkah 4 Analisa Korelasi Variabel"
   ]
  },
  {
   "cell_type": "code",
   "execution_count": 33,
   "id": "3ee260a9",
   "metadata": {},
   "outputs": [
    {
     "data": {
      "text/html": [
       "<div>\n",
       "<style scoped>\n",
       "    .dataframe tbody tr th:only-of-type {\n",
       "        vertical-align: middle;\n",
       "    }\n",
       "\n",
       "    .dataframe tbody tr th {\n",
       "        vertical-align: top;\n",
       "    }\n",
       "\n",
       "    .dataframe thead th {\n",
       "        text-align: right;\n",
       "    }\n",
       "</style>\n",
       "<table border=\"1\" class=\"dataframe\">\n",
       "  <thead>\n",
       "    <tr style=\"text-align: right;\">\n",
       "      <th></th>\n",
       "      <th>age</th>\n",
       "      <th>bmi</th>\n",
       "      <th>children</th>\n",
       "      <th>charges</th>\n",
       "    </tr>\n",
       "  </thead>\n",
       "  <tbody>\n",
       "    <tr>\n",
       "      <th>age</th>\n",
       "      <td>1.000000</td>\n",
       "      <td>0.109272</td>\n",
       "      <td>0.042469</td>\n",
       "      <td>0.299008</td>\n",
       "    </tr>\n",
       "    <tr>\n",
       "      <th>bmi</th>\n",
       "      <td>0.109272</td>\n",
       "      <td>1.000000</td>\n",
       "      <td>0.012759</td>\n",
       "      <td>0.198341</td>\n",
       "    </tr>\n",
       "    <tr>\n",
       "      <th>children</th>\n",
       "      <td>0.042469</td>\n",
       "      <td>0.012759</td>\n",
       "      <td>1.000000</td>\n",
       "      <td>0.067998</td>\n",
       "    </tr>\n",
       "    <tr>\n",
       "      <th>charges</th>\n",
       "      <td>0.299008</td>\n",
       "      <td>0.198341</td>\n",
       "      <td>0.067998</td>\n",
       "      <td>1.000000</td>\n",
       "    </tr>\n",
       "  </tbody>\n",
       "</table>\n",
       "</div>"
      ],
      "text/plain": [
       "               age       bmi  children   charges\n",
       "age       1.000000  0.109272  0.042469  0.299008\n",
       "bmi       0.109272  1.000000  0.012759  0.198341\n",
       "children  0.042469  0.012759  1.000000  0.067998\n",
       "charges   0.299008  0.198341  0.067998  1.000000"
      ]
     },
     "execution_count": 33,
     "metadata": {},
     "output_type": "execute_result"
    }
   ],
   "source": [
    "#Korelasi, menggunakan sintaks pandas.dataframse.corr()\n",
    "#Sintaks ini menghasilkan pairwise correlation dari semua kolom.\n",
    "#Metode yang digunakan adalah korelasi Pearson.\n",
    "\n",
    "data_csv.corr(method='pearson')"
   ]
  },
  {
   "cell_type": "markdown",
   "id": "dfa522f9",
   "metadata": {},
   "source": [
    "# Langkah 5 Pengujian Hipotesis"
   ]
  },
  {
   "cell_type": "code",
   "execution_count": 63,
   "id": "bfdc5bd2",
   "metadata": {},
   "outputs": [],
   "source": [
    "#Kode F-Test\n",
    "def f_test(group1, group2):\n",
    "    f = group1.var(ddof=1)/group2.var(ddof=1)\n",
    "    nun = group1.size-1\n",
    "    dun = group2.size-1\n",
    "    p_value = 1-scipy.stats.f.cdf(f, nun, dun)\n",
    "    return f, p_value"
   ]
  },
  {
   "cell_type": "markdown",
   "id": "6ba8a07c",
   "metadata": {},
   "source": [
    "1. Tagihan kesehatan perokok lebih tinggi daripada tagihan kesehatan non perokok."
   ]
  },
  {
   "cell_type": "code",
   "execution_count": 57,
   "id": "5fd6d94e",
   "metadata": {},
   "outputs": [],
   "source": [
    "#Membuat data frames baru untuk perokok dan non perokok\n",
    "\n",
    "#Data Smokers\n",
    "Smokers=data_csv[data_csv.smoker == 'yes']['charges']\n",
    "#Convert ke numpy\n",
    "Smokers=Smokers.to_numpy()\n",
    "\n",
    "#Data NonSmokers\n",
    "NonSmokers=data_csv[data_csv.smoker == 'no']['charges']\n",
    "#Convert ke numpy\n",
    "NonSmokers=NonSmokers.to_numpy()"
   ]
  },
  {
   "cell_type": "code",
   "execution_count": 90,
   "id": "f2226024",
   "metadata": {
    "scrolled": true
   },
   "outputs": [
    {
     "name": "stdout",
     "output_type": "stream",
     "text": [
      "(3.707884538770158, 1.1102230246251565e-16)\n",
      "Nilai F adalah 3.71 dengan P mendekati 0 sehingga H0 gagal ditolak karena P kurang dari 0.05\n",
      "Belum ada bukti yang menyatakan varian tagihan perokok dan varian tagihan non perokok sama\n"
     ]
    }
   ],
   "source": [
    "#Uji F\n",
    "print(f_test(Smokers,NonSmokers))\n",
    "\n",
    "print(f'Nilai F adalah 3.71 dengan P mendekati 0 sehingga H0 gagal ditolak karena P kurang dari 0.05')\n",
    "print(f\"Belum ada bukti yang menyatakan varian tagihan perokok dan varian tagihan non perokok sama\")"
   ]
  },
  {
   "cell_type": "code",
   "execution_count": 72,
   "id": "34a7ef47",
   "metadata": {},
   "outputs": [
    {
     "data": {
      "text/plain": [
       "Ttest_indResult(statistic=32.751887766341824, pvalue=5.88946444671698e-103)"
      ]
     },
     "metadata": {},
     "output_type": "display_data"
    },
    {
     "name": "stdout",
     "output_type": "stream",
     "text": [
      "Hasil Uji T menunjukkan nilai T sebesar 32.75 dan P value mendekati 0 sehingga H0 ditolak karena P<0.05\n"
     ]
    }
   ],
   "source": [
    "#Uji T dengan Variance yang berbeda\n",
    "\n",
    "#Digunakan scipy.stats.ttest_ind dengan opsi equal_var=false\n",
    "Ttest=scipy.stats.ttest_ind(Smokers,NonSmokers, equal_var=False)\n",
    "display(Ttest)\n",
    "\n",
    "print(f\"Hasil Uji T menunjukkan nilai T sebesar 32.75 dan P value mendekati 0 sehingga H0 ditolak karena P<0.05\")"
   ]
  },
  {
   "cell_type": "markdown",
   "id": "e744d260",
   "metadata": {},
   "source": [
    "2. Tagihan kesehatan dengan BMI diatas 25 lebih tinggi daripada tagihan kesehatan\n",
    "dengan BMI dibawah 25"
   ]
  },
  {
   "cell_type": "code",
   "execution_count": 84,
   "id": "91652591",
   "metadata": {},
   "outputs": [],
   "source": [
    "#Membuat data frames baru untuk BMI > 25 dan BMI < 25\n",
    "\n",
    "#Data BMI\n",
    "BMIhigh=data_csv[data_csv.bmi > 25]['charges']\n",
    "#Convert ke numpy\n",
    "BMIhigh=BMIhigh.to_numpy()\n",
    "\n",
    "#Data NonSmokers\n",
    "BMIlow=data_csv[data_csv.bmi < 25]['charges']\n",
    "#Convert ke numpy\n",
    "BMIlow=BMIlow.to_numpy()"
   ]
  },
  {
   "cell_type": "code",
   "execution_count": 89,
   "id": "0bed1d50",
   "metadata": {},
   "outputs": [
    {
     "name": "stdout",
     "output_type": "stream",
     "text": [
      "(2.912603553599597, 1.1102230246251565e-16)\n",
      "Nilai F adalah 2.91 dengan P mendekati 0 sehingga H0 gagal ditolak karena P kurang dari 0.05\n",
      "Belum ada bukti yang menyatakan varian tagihan BMI > 25 dan varian tagihan BMI < 25 sama\n"
     ]
    }
   ],
   "source": [
    "#Uji F\n",
    "print(f_test(BMIhigh,BMIlow))\n",
    "\n",
    "print(f'Nilai F adalah 2.91 dengan P mendekati 0 sehingga H0 gagal ditolak karena P kurang dari 0.05')\n",
    "print(f\"Belum ada bukti yang menyatakan varian tagihan BMI > 25 dan varian tagihan BMI < 25 sama\")"
   ]
  },
  {
   "cell_type": "code",
   "execution_count": 88,
   "id": "8444e418",
   "metadata": {},
   "outputs": [
    {
     "data": {
      "text/plain": [
       "Ttest_indResult(statistic=5.929878344096734, pvalue=5.080897303161378e-09)"
      ]
     },
     "metadata": {},
     "output_type": "display_data"
    },
    {
     "name": "stdout",
     "output_type": "stream",
     "text": [
      "Hasil Uji T menunjukkan nilai T sebesar 5.93 dan P value mendekati 0 sehingga H0 ditolak karena P<0.05\n"
     ]
    }
   ],
   "source": [
    "#Uji T dengan Variance yang berbeda\n",
    "\n",
    "#Digunakan scipy.stats.ttest_ind dengan opsi equal_var=false\n",
    "Ttest=scipy.stats.ttest_ind(BMIhigh,BMIlow, equal_var=False)\n",
    "display(Ttest)\n",
    "\n",
    "print(f\"Hasil Uji T menunjukkan nilai T sebesar 5.93 dan P value mendekati 0 sehingga H0 ditolak karena P<0.05\")"
   ]
  },
  {
   "cell_type": "markdown",
   "id": "e8cfdd0e",
   "metadata": {},
   "source": [
    "3. Tagihan kesehatan laki-laki lebih besar dari perempuan"
   ]
  },
  {
   "cell_type": "code",
   "execution_count": 95,
   "id": "e6b6eadd",
   "metadata": {},
   "outputs": [],
   "source": [
    "#Membuat data frames baru untuk BMI > 25 dan BMI < 25\n",
    "\n",
    "#Data BMI\n",
    "Male=data_csv[data_csv.sex == 'male']['charges']\n",
    "#Convert ke numpy\n",
    "Male=Male.to_numpy()\n",
    "\n",
    "#Data NonSmokers\n",
    "Female=data_csv[data_csv.sex == 'female']['charges']\n",
    "#Convert ke numpy\n",
    "Female=Female.to_numpy()"
   ]
  },
  {
   "cell_type": "code",
   "execution_count": 97,
   "id": "00ffb614",
   "metadata": {},
   "outputs": [
    {
     "name": "stdout",
     "output_type": "stream",
     "text": [
      "(1.3584995130182387, 3.947797030812161e-05)\n",
      "Nilai F adalah 1.36 dengan P mendekati 0 sehingga H0 gagal ditolak karena P kurang dari 0.05\n",
      "Belum ada bukti yang menyatakan varian tagihan kesehatan laki-laki dan varian tagihan kesehatan perempuan sama\n"
     ]
    }
   ],
   "source": [
    "#Uji F\n",
    "print(f_test(Male,Female))\n",
    "\n",
    "print(f'Nilai F adalah 1.36 dengan P mendekati 0 sehingga H0 gagal ditolak karena P kurang dari 0.05')\n",
    "print(f\"Belum ada bukti yang menyatakan varian tagihan kesehatan laki-laki dan varian tagihan kesehatan perempuan sama\")"
   ]
  },
  {
   "cell_type": "code",
   "execution_count": 100,
   "id": "4946c1e2",
   "metadata": {},
   "outputs": [
    {
     "data": {
      "text/plain": [
       "Ttest_indResult(statistic=2.1008878232359565, pvalue=0.035841014956016645)"
      ]
     },
     "metadata": {},
     "output_type": "display_data"
    },
    {
     "name": "stdout",
     "output_type": "stream",
     "text": [
      "Hasil Uji T menunjukkan nilai T sebesar 2.1 dan P value 0.036 kurang dari 0.05 sehingga H0 ditolak\n"
     ]
    }
   ],
   "source": [
    "#Uji T dengan Variance yang berbeda\n",
    "\n",
    "#Digunakan scipy.stats.ttest_ind dengan opsi equal_var=false\n",
    "Ttest=scipy.stats.ttest_ind(Male,Female, equal_var=False)\n",
    "display(Ttest)\n",
    "\n",
    "print(f\"Hasil Uji T menunjukkan nilai T sebesar 2.1 dan P value 0.036 kurang dari 0.05 sehingga H0 ditolak\")"
   ]
  },
  {
   "cell_type": "code",
   "execution_count": null,
   "id": "f485a0a8",
   "metadata": {},
   "outputs": [],
   "source": []
  }
 ],
 "metadata": {
  "kernelspec": {
   "display_name": "Python 3 (ipykernel)",
   "language": "python",
   "name": "python3"
  },
  "language_info": {
   "codemirror_mode": {
    "name": "ipython",
    "version": 3
   },
   "file_extension": ".py",
   "mimetype": "text/x-python",
   "name": "python",
   "nbconvert_exporter": "python",
   "pygments_lexer": "ipython3",
   "version": "3.9.12"
  }
 },
 "nbformat": 4,
 "nbformat_minor": 5
}
